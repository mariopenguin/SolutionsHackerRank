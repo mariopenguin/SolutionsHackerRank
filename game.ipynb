{
 "cells": [
  {
   "cell_type": "code",
   "execution_count": 1,
   "metadata": {},
   "outputs": [],
   "source": [
    "def isVowel(ch):\n",
    "    if(ch == 'a' or ch == 'e' or ch == 'i' or ch == 'o' or ch == 'u' or ch == 'A'\n",
    "       or ch == 'E' or ch == 'I' or ch == 'O' or ch == 'U'):\n",
    "        return True\n",
    "    else:\n",
    "        return False"
   ]
  },
  {
   "cell_type": "code",
   "execution_count": null,
   "metadata": {},
   "outputs": [],
   "source": [
    "from itertools import combinations"
   ]
  },
  {
   "cell_type": "code",
   "execution_count": 9,
   "metadata": {},
   "outputs": [
    {
     "name": "stdout",
     "output_type": "stream",
     "text": [
      "Kevin 18\n",
      "['A', 'AA', 'AAN', 'AANA', 'AANAN', 'AANANA', 'AANANAS', 'AN', 'ANA', 'ANAN', 'ANANA', 'ANANAS', 'ANAS', 'AS']\n",
      "14\n"
     ]
    }
   ],
   "source": [
    "finalString = \"banana\"\n",
    "#def minion_game(s):\n",
    "\n",
    "def iterateWord(s,i,vector):\n",
    "    actualword = \"\"\n",
    "    for j in range(i,len(s)): #Loop containing \n",
    "                actualword += s[j]\n",
    "                if(actualword not in vector):\n",
    "                    vector.append(actualword)\n",
    "\n",
    "def findWords(s:str):\n",
    "    vowelwords = []\n",
    "    consonantwords = []\n",
    "    scores = [0,0]\n",
    "    for i in range(len(s)): #Loop for the lenght of the string\n",
    "        if(isVowel(s[i])):\n",
    "            iterateWord(s,i,vowelwords)\n",
    "        else:\n",
    "            iterateWord(s,i,consonantwords)\n",
    "    \n",
    "    for st in consonantwords:\n",
    "        scores[0]+= s.count(st)\n",
    "    for st in vowelwords:\n",
    "        scores[1]+= s.count(st)\n",
    "    \n",
    "    msg = f\"Stuart {scores[0]}\" if scores[0]>scores[1] else f\"Kevin {scores[1]}\"\n",
    "    if(scores[0]==scores[1]):\n",
    "        msg= \"Draw\"\n",
    "    print(msg)\n",
    "    print(vowelwords)\n",
    "    print(len(vowelwords))\n",
    "\n",
    "\n",
    "findWords(\"BAANANAS\")"
   ]
  }
 ],
 "metadata": {
  "kernelspec": {
   "display_name": "Python 3.10.0 64-bit",
   "language": "python",
   "name": "python3"
  },
  "language_info": {
   "codemirror_mode": {
    "name": "ipython",
    "version": 3
   },
   "file_extension": ".py",
   "mimetype": "text/x-python",
   "name": "python",
   "nbconvert_exporter": "python",
   "pygments_lexer": "ipython3",
   "version": "3.10.0"
  },
  "orig_nbformat": 4,
  "vscode": {
   "interpreter": {
    "hash": "aee8b7b246df8f9039afb4144a1f6fd8d2ca17a180786b69acc140d282b71a49"
   }
  }
 },
 "nbformat": 4,
 "nbformat_minor": 2
}
