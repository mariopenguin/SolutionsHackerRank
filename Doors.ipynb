{
 "cells": [
  {
   "cell_type": "code",
   "execution_count": 27,
   "metadata": {},
   "outputs": [],
   "source": [
    "def wrap(string, max_width):\n",
    "    cont = 0\n",
    "    newS = \"\"\n",
    "    for i in string:\n",
    "        if(cont == max_width):\n",
    "            newS += '\\n'\n",
    "            cont = 0\n",
    "        newS += i\n",
    "        cont +=1\n",
    "    return newS"
   ]
  },
  {
   "cell_type": "code",
   "execution_count": 28,
   "metadata": {},
   "outputs": [
    {
     "data": {
      "text/plain": [
       "'abc\\nder\\near\\nrae'"
      ]
     },
     "execution_count": 28,
     "metadata": {},
     "output_type": "execute_result"
    }
   ],
   "source": [
    "wrap(\"abcderearrae\",3)"
   ]
  },
  {
   "cell_type": "code",
   "execution_count": 30,
   "metadata": {},
   "outputs": [
    {
     "data": {
      "text/plain": [
       "'abcabcabc'"
      ]
     },
     "execution_count": 30,
     "metadata": {},
     "output_type": "execute_result"
    }
   ],
   "source": [
    "cad = \"abc\"\n",
    "cad*3"
   ]
  },
  {
   "cell_type": "code",
   "execution_count": 53,
   "metadata": {},
   "outputs": [
    {
     "data": {
      "text/plain": [
       "'bc'"
      ]
     },
     "execution_count": 53,
     "metadata": {},
     "output_type": "execute_result"
    }
   ],
   "source": []
  },
  {
   "cell_type": "code",
   "execution_count": 38,
   "metadata": {},
   "outputs": [
    {
     "name": "stdout",
     "output_type": "stream",
     "text": [
      "---------------.|.---------------\n",
      "3\n",
      "------------.|..|..|.------------\n",
      "5\n",
      "---------.|..|..|..|..|.---------\n",
      "7\n",
      "------.|..|..|..|..|..|..|.------\n",
      "9\n",
      "---.|..|..|..|..|..|..|..|..|.---\n",
      "11\n",
      "-------------WELCOME-------------\n",
      "11\n",
      "---.|..|..|..|..|..|..|..|..|.---\n",
      "9\n",
      "------.|..|..|..|..|..|..|.------\n",
      "7\n",
      "---------.|..|..|..|..|.---------\n",
      "5\n",
      "------------.|..|..|.------------\n",
      "3\n",
      "---------------.|.---------------\n",
      "1\n"
     ]
    }
   ],
   "source": [
    "N = 11\n",
    "M = N*3\n",
    "spaces = \".|.\"\n",
    "cont = 1\n",
    "rev = False\n",
    "for i in range(N):\n",
    "    if(not rev):\n",
    "        actDoorString = spaces *cont\n",
    "    else:\n",
    "        cont -=2\n",
    "        actDoorString = spaces * cont \n",
    "    line = \"\" \n",
    "    index = int((M/2))- cont +1\n",
    "    if(i == int(N/2)):\n",
    "        n0 = int(M/2)-3\n",
    "        line= \"-\"*n0+\"WELCOME\"+\"-\"*n0\n",
    "        rev = True\n",
    "    else:\n",
    "        subStr = \"-\"*int(int(M/2)-int(len(actDoorString)/2))\n",
    "        line = subStr + actDoorString + subStr\n",
    "    print(line)\n",
    "    if(not rev):\n",
    "        cont +=2  \n",
    "    print()"
   ]
  }
 ],
 "metadata": {
  "interpreter": {
   "hash": "40d3a090f54c6569ab1632332b64b2c03c39dcf918b08424e98f38b5ae0af88f"
  },
  "kernelspec": {
   "display_name": "Python 3.9.7 ('base')",
   "language": "python",
   "name": "python3"
  },
  "language_info": {
   "codemirror_mode": {
    "name": "ipython",
    "version": 3
   },
   "file_extension": ".py",
   "mimetype": "text/x-python",
   "name": "python",
   "nbconvert_exporter": "python",
   "pygments_lexer": "ipython3",
   "version": "3.9.7"
  },
  "orig_nbformat": 4
 },
 "nbformat": 4,
 "nbformat_minor": 2
}
