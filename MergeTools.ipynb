{
 "cells": [
  {
   "cell_type": "code",
   "execution_count": 42,
   "metadata": {},
   "outputs": [
    {
     "ename": "SyntaxError",
     "evalue": "EOL while scanning string literal (3186062349.py, line 15)",
     "output_type": "error",
     "traceback": [
      "\u001b[0;36m  File \u001b[0;32m\"/var/folders/0d/t__h7_r92g96r0yh11xd_7_h0000gn/T/ipykernel_13093/3186062349.py\"\u001b[0;36m, line \u001b[0;32m15\u001b[0m\n\u001b[0;31m    print(f\"Lista final: finalList)\u001b[0m\n\u001b[0m                                   ^\u001b[0m\n\u001b[0;31mSyntaxError\u001b[0m\u001b[0;31m:\u001b[0m EOL while scanning string literal\n"
     ]
    }
   ],
   "source": [
    "import math\n",
    "def merge_the_tools(string, k):\n",
    "    nSplits = math.ceil(len(string)/k)\n",
    "    print(nSplits, type(nSplits),k)\n",
    "    splits = [string[i:(i+k)] for i in range(0,len(string),k)]\n",
    "    finalList = []\n",
    "    for i in splits:\n",
    "        print(f\"Before: {i}\")\n",
    "        auxList = []\n",
    "        for charac in i:\n",
    "            if(charac not in auxList):\n",
    "                auxList.append(charac)\n",
    "        print(\"\".join(auxList))\n",
    "\n",
    "    #print(splits)\n",
    "    # your code goes here\n",
    "merge_the_tools(\"AAABBB\",3)"
   ]
  },
  {
   "cell_type": "code",
   "execution_count": 41,
   "metadata": {},
   "outputs": [
    {
     "name": "stdout",
     "output_type": "stream",
     "text": [
      "aaaaaaaa\n"
     ]
    }
   ],
   "source": [
    "patata = [\"a\",\"a\",\"a\",\"a\",\"a\",\"a\",\"a\",\"a\"]\n",
    "tomato = \"\".join(patata)\n",
    "print(tomato)"
   ]
  },
  {
   "cell_type": "code",
   "execution_count": 32,
   "metadata": {},
   "outputs": [
    {
     "name": "stdout",
     "output_type": "stream",
     "text": [
      "0\n",
      "3\n",
      "6\n",
      "9\n"
     ]
    }
   ],
   "source": [
    "k = 10\n",
    "split = 3\n",
    "for i in range(0,10,3):\n",
    "    print(i)"
   ]
  }
 ],
 "metadata": {
  "kernelspec": {
   "display_name": "base",
   "language": "python",
   "name": "python3"
  },
  "language_info": {
   "codemirror_mode": {
    "name": "ipython",
    "version": 3
   },
   "file_extension": ".py",
   "mimetype": "text/x-python",
   "name": "python",
   "nbconvert_exporter": "python",
   "pygments_lexer": "ipython3",
   "version": "3.9.13"
  },
  "orig_nbformat": 4,
  "vscode": {
   "interpreter": {
    "hash": "8072afb617002cc38b1127f2e5054a35a60413841bdf984082a38fae01826d29"
   }
  }
 },
 "nbformat": 4,
 "nbformat_minor": 2
}
